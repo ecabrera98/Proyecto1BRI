{
  "nbformat": 4,
  "nbformat_minor": 0,
  "metadata": {
    "colab": {
      "name": "Proyecto1B_RI_Luis_Almeida_Edison_Cabrera.ipynb",
      "provenance": []
    },
    "kernelspec": {
      "name": "python3",
      "display_name": "Python 3"
    },
    "language_info": {
      "name": "python"
    }
  },
  "cells": [
    {
      "cell_type": "markdown",
      "source": [
        "Escuela Politécnica Nacional<br>\n",
        "\n",
        "\n",
        "Facultad de Ingeniería en Sistemas<br>\n",
        "\n",
        "Ingeniería en Ciencias de la Computación<br>\n",
        "<br>\n",
        "RECUPERACION DE INFORMACIÓN - ICCD753<br>\n",
        "\n",
        "<br>\n",
        "Tema: Modelo Booleano de RI<br>\n",
        "Fecha de Entrega: 05-01-2022 <br>\n",
        "<br>\n",
        "Integrantes: <br>\n",
        "Luis Ernesto Almeida Zambrano<br>\n",
        "            Edison Daniel Cabrera Pabón"
      ],
      "metadata": {
        "id": "yG3sRjyVIEK-"
      }
    },
    {
      "cell_type": "markdown",
      "source": [
        "Ejemplo Uno"
      ],
      "metadata": {
        "id": "3T1Bwa0EJWWp"
      }
    },
    {
      "cell_type": "code",
      "source": [
        "import pandas\n",
        "# módulo para leer el contenido del archivo desde un archivo csv\n",
        "\n",
        "from contextlib import redirect_stdout\n",
        "# módulo para redirigir la salida a un archivo de texto\n",
        "terms = []\n",
        "# lista para almacenar los términos presentes en los documentos\n",
        "\n",
        "keys = []\n",
        "# lista para almacenar los nombres de los documentos\n",
        "\n",
        "vec_Dic = {}\n",
        "# diccionario para almacenar el nombre del documento y el vector booleano \n",
        "# como lista\n",
        "dicti = {}\n",
        "# diccionario para almacenar el nombre del documento y los términos presentes \n",
        "# en él como un vector\n",
        "\n",
        "dummy_List = []\n",
        "# lista para realizar algunas operaciones y borrarlas"
      ],
      "metadata": {
        "id": "PejecjTHOyaG"
      },
      "execution_count": 9,
      "outputs": []
    },
    {
      "cell_type": "markdown",
      "source": [
        "Función para leer y separar el nombre de los documentos y los términos presente en él en una lista separada del marco de datos y también crear un diccionario que tiene el nombre del documento como clave y los términos presentes en\n",
        "como la lista de cadenas que es el valor de la clave."
      ],
      "metadata": {
        "id": "hfm-ZFdPQpPn"
      }
    },
    {
      "cell_type": "code",
      "source": [
        "def filter(documents, rows, cols):\n",
        "\tfor i in range(rows):\n",
        "\t\tfor j in range(cols):\n",
        "\t\t\t# atravesar el marco de datos\n",
        "\n",
        "\t\t\tif(j == 0):\n",
        "\t\t\t\t# la primera columna tiene el nombre del documento en el archivo csv\n",
        "\t\t\t\tkeys.append(documents.loc[i].iat[j])\n",
        "\t\t\telse:\n",
        "\t\t\t\tdummy_List.append(documents.loc[i].iat[j])\n",
        "\t\t\t\t# lista ficticia para actualizar los términos en el diccionario\n",
        "\n",
        "\t\t\t\tif documents.loc[i].iat[j] not in terms:\n",
        "\t\t\t\t\t# agregue los términos a la lista si no está presente; de lo contrario, continúe\n",
        "\t\t\t\t\tterms.append(documents.loc[i].iat[j])\n",
        "\n",
        "\t\tcopy = dummy_List.copy()\n",
        "\t\t# copiando la lista ficticia a una lista diferente\n",
        "\n",
        "\t\tdicti.update({documents.loc[i].iat[0]: copy})\n",
        "\t\t# agregar el par clave-valor a un diccionario\n",
        "\n",
        "\t\tdummy_List.clear()\n",
        "\t\t# borrar la lista ficticia"
      ],
      "metadata": {
        "id": "cxgAuyNDQ6u3"
      },
      "execution_count": 10,
      "outputs": []
    },
    {
      "cell_type": "markdown",
      "source": [
        "En esta función obtenemos una representación booleana de los términos presentes en el documentos en forma de listas, luego creamos un diccionario que contiene el nombre de los documentos como clave y el valor como la lista de valores booleanos representando los términos presentes en el documento"
      ],
      "metadata": {
        "id": "osVFxyoWzyIL"
      }
    },
    {
      "cell_type": "code",
      "source": [
        "def bool_Representation(dicti, rows, cols):\n",
        "\tterms.sort()\n",
        "\t# clasificamos los elementos en orden alfabético por conveniencia, el orden\n",
        "\t# del término no hace ninguna diferencia\n",
        "\n",
        "\tfor i in (dicti):\n",
        "\t\t# para cada documento en el diccionario, verificamos cada cadena presente en\n",
        "\t\t# la lista\n",
        "\n",
        "\t\tfor j in terms:\n",
        "\t\t\t# si la cadena está presente en la lista, agregamos 1; de lo contrario, agregamos 0\n",
        "\n",
        "\t\t\tif j in dicti[i]:\n",
        "\t\t\t\tdummy_List.append(1)\n",
        "\t\t\telse:\n",
        "\t\t\t\tdummy_List.append(0)\n",
        "\t\t\t# agregando 1 o 0 para obtener la representación booleana\n",
        "\t\tcopy = dummy_List.copy()\n",
        "\t\t# copiando la lista ficticia a una lista diferente\n",
        "\n",
        "\t\tvec_Dic.update({i: copy})\n",
        "\t\t# agregar el par clave-valor a un diccionario\n",
        "\n",
        "\t\tdummy_List.clear()\n",
        "\t\t# borrar la lista ficticia"
      ],
      "metadata": {
        "id": "c-spWXvFQ2sl"
      },
      "execution_count": 11,
      "outputs": []
    },
    {
      "cell_type": "markdown",
      "source": [
        "En esta función representamos la consulta en forma de vector booleano"
      ],
      "metadata": {
        "id": "aySyp78Z0Wd2"
      }
    },
    {
      "cell_type": "code",
      "source": [
        "def query_Vector(query):\n",
        "\tqvect = []\n",
        "\t# vector de consulta que se devuelve al final de la función\n",
        "\n",
        "\tfor i in terms:\n",
        "\t\t# si la palabra presente en la lista de términos también está presente \n",
        "\t\t# en la consulta luego agregue 1 de lo contrario agregue 0\n",
        "\n",
        "\t\tif i in query:\n",
        "\t\t\tqvect.append(1)\n",
        "\t\telse:\n",
        "\t\t\tqvect.append(0)\n",
        "\n",
        "\treturn qvect\n",
        "\t# devuelve el vector de consulta que se obtiene en forma booleana"
      ],
      "metadata": {
        "id": "Kv8qTFn2SlsA"
      },
      "execution_count": 12,
      "outputs": []
    },
    {
      "cell_type": "markdown",
      "source": [
        "En esta función hacemos la predicción con respecto a qué documento está relacionado a la consulta dada realizando las operaciones booleanas"
      ],
      "metadata": {
        "id": "SjwIGmp_0m3V"
      }
    },
    {
      "cell_type": "code",
      "source": [
        "def prediction(q_Vect):\n",
        "\tdictionary = {}\n",
        "\tlisti = []\n",
        "\tcount = 0\n",
        "\t# inicialización del diccionario, lista y una variable que es contador\n",
        "\t# requerida para realizar el cálculo\n",
        "\n",
        "\tterm_Len = len(terms)\n",
        "\t# número de términos presentes en la lista de términos\n",
        "\n",
        "\tfor i in vec_Dic:\n",
        "\t\t# para cada documento del diccionario que contenga los términos presentes \n",
        "\t\t# en él vector booleano\n",
        "\t\tfor t in range(term_Len):\n",
        "\t\t\tif(q_Vect[t] == vec_Dic[i][t]):\n",
        "\t\t\t\t# si las palabras presentes en la consulta también están presentes en el\n",
        "\t\t\t\t# documento o si las palabras presentes en la consulta también están \n",
        "\t\t\t\t# ausentes en el documento\n",
        "\n",
        "\t\t\t\tcount += 1\n",
        "\t\t\t\t# aumentar el valor de la variable contador en uno\n",
        "\t\t\t\t# la condición en la que las palabras presentes en el documento y \n",
        "\t\t\t\t# ausentes en consulta, presente en consulta y ausente en documento \n",
        "\t\t\t\t# no se considera válido\n",
        "\n",
        "\t\tdictionary.update({i: count})\n",
        "\t\t# actualización del diccionario aquí el nombre del documento es la clave \n",
        "\t\t# y el contador calculado anteriormente es el valor\n",
        "\t\n",
        "\t\tcount = 0\n",
        "\t\t# reinicialización de la variable contador a 0\n",
        "\n",
        "\tfor i in dictionary:\n",
        "\t\tlisti.append(dictionary[i])\n",
        "\t\t# aquí agregamos el valor de contador a la lista\n",
        "\n",
        "\tlisti = sorted(listi, reverse=True)\n",
        "\t# ordenamos la lista en orden descendente que es necesario para clasificar los\n",
        "\t# documentos según la relevancia\n",
        "\n",
        "\tans = ' '\n",
        "\t# variable para almacenar el nombre del documento que es más relevante\n",
        "\n",
        "\twith open('Salida.txt', 'w') as f:\n",
        "\t\twith redirect_stdout(f):\n",
        "\t\t\t# para redirigir la salida a un archivo de texto\n",
        "\n",
        "\t\t\tprint(\"ranking of the documents\")\n",
        "\n",
        "\t\t\tfor count, i in enumerate(listi):\n",
        "\t\t\t\tkey = check(dictionary, i)\n",
        "\t\t\t\t# Llamada a la función para obtener la clave cuando se conoce el valor\n",
        "\t\t\t\tif count == 0:\n",
        "\t\t\t\t\tans = key\n",
        "\t\t\t\t\t# para almacenar el nombre del documento que es más relevante\n",
        "\n",
        "\t\t\t\tprint(key, \"rank is\", count+1)\n",
        "\t\t\t\t# imprime el nombre del documento junto con su rango\n",
        "\n",
        "\t\t\t\tdictionary.pop(key)\n",
        "\t\t\t\t# quitar la clave del diccionario después de imprimir\n",
        "\n",
        "\t\t\tprint(ans, \"is the most relevant document for the given query\")\n",
        "\t\t\t# para imprimir el nombre del documento que es más relevante"
      ],
      "metadata": {
        "id": "Ib1Xdhn3SqQ3"
      },
      "execution_count": 13,
      "outputs": []
    },
    {
      "cell_type": "markdown",
      "source": [
        "Función para devolver la clave cuando se conoce el valor"
      ],
      "metadata": {
        "id": "4CZTVi-y2ICA"
      }
    },
    {
      "cell_type": "code",
      "source": [
        "def check(dictionary, val):\n",
        "\tfor key, value in dictionary.items():\n",
        "\t\tif(val == value):\n",
        "\t\t\t# si el valor dado es el mismo que el valor presente en el diccionario\n",
        "\t\t\t# devuelve la clave\n",
        "\t\t\treturn key"
      ],
      "metadata": {
        "id": "OFaugmLQSvL0"
      },
      "execution_count": 14,
      "outputs": []
    },
    {
      "cell_type": "markdown",
      "source": [
        "Función Principal del Programa"
      ],
      "metadata": {
        "id": "0xjNi_Rc2asU"
      }
    },
    {
      "cell_type": "code",
      "source": [
        "def main():\n",
        "\tdocuments = pandas.read_csv(r'DocumentoUno.csv')\n",
        "\t# para leer los datos del archivo csv como un marco de datos\n",
        "\trows = len(documents)\n",
        "\t# para obtener el número de filas\n",
        "\n",
        "\tcols = len(documents.columns)\n",
        "\t# para obtener el número de columnas\n",
        "\n",
        "\tfilter(documents, rows, cols)\n",
        "\t# llamada de función para leer y separar el nombre de los documentos y \n",
        "\t# los términos presentes en él en una lista separada del marco de datos y \n",
        "\t# también crear un diccionario que tiene el nombre del documento como clave y \n",
        "\t# los términos presentes en él como la lista de cadenas cual es el valor \n",
        "\t# de la clave\n",
        "\n",
        "\tbool_Representation(dicti, rows, cols)\n",
        "\t# en esta función obtenemos una representación booleana de los términos \n",
        "\t# presentes en los documentos en forma de listas, luego creamos un diccionario \n",
        "\t# que contiene el nombre de los documentos como clave y valor como la lista \n",
        "\t# de valores booleanos que representan los términos presentes en el documento\n",
        "\n",
        "\tprint(\"Enter query\")\n",
        "\tquery = input()\n",
        "\t# para obtener la entrada de la consulta del usuario, la siguiente entrada \n",
        "\t# hockey is a national sport\n",
        "\t# se proporciona para obtener la salida como en el archivo Salida.txt \n",
        "\n",
        "\tquery = query.split(' ')\n",
        "\t# dividir la consulta como una lista de cadenas\n",
        "\n",
        "\tq_Vect = query_Vector(query)\n",
        "\t# llamada de función para representar la consulta en forma de vector booleano\n",
        "\n",
        "\tprediction(q_Vect)\n",
        "\t# llamada a la función para hacer la predicción con respecto a qué documento \n",
        "\t# está relacionado con la consulta dada realizando las operaciones booleanas\n",
        "\n",
        "#ejecución de la función principal\n",
        "main()\n"
      ],
      "metadata": {
        "colab": {
          "base_uri": "https://localhost:8080/"
        },
        "id": "N2nl8cf8IE-w",
        "outputId": "a0fec2b0-b0d5-4fc5-a622-b865b66713ee"
      },
      "execution_count": 15,
      "outputs": [
        {
          "name": "stdout",
          "output_type": "stream",
          "text": [
            "Enter query\n",
            "hockey is a national sport\n"
          ]
        }
      ]
    }
  ]
}